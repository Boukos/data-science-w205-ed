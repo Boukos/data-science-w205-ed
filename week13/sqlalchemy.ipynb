{
 "cells": [
  {
   "cell_type": "markdown",
   "metadata": {},
   "source": [
    "## SQLAlchemy - using an ORM\n",
    "\n",
    "### what is an ORM?\n",
    "\n",
    "ORM stands for Object Relational Mapper\n",
    "\n",
    "https://en.wikipedia.org/wiki/Object-relational_mapping\n",
    "\n",
    "```\n",
    "The heart of the problem involves translating the logical representation \n",
    "of the objects into an atomized form that is capable of being stored \n",
    "in the database, while preserving the properties of the objects \n",
    "and their relationships so that they can be reloaded as objects when needed.\n",
    "```\n",
    "\n",
    "### what is SQLAlchemy?\n",
    "\n",
    "* SQLAlchemy is magic!!  \n",
    "\n",
    "* Allows you to make database style calls in Python as opposed to SQL.\n",
    "\n",
    "* Can connect to lots of different databases.  Underlying connection engine for many other Python packages like pandas.\n",
    "\n",
    "* Can use raw SQL if you want\n",
    "\n",
    "* Allows you to have an abstraction layer between Python and database\n",
    "\n",
    "https://www.sqlalchemy.org/\n",
    "\n",
    "http://pandas.pydata.org/pandas-docs/stable/generated/pandas.read_sql.html#pandas.read_sql\n",
    "\n",
    "### install SQLAlchemy\n",
    "\n",
    "```pip install SQLAlchemy```"
   ]
  },
  {
   "cell_type": "code",
   "execution_count": 20,
   "metadata": {
    "collapsed": false
   },
   "outputs": [
    {
     "name": "stdout",
     "output_type": "stream",
     "text": [
      "Requirement already satisfied: SQLAlchemy in /Users/mango/anaconda/envs/w205/lib/python3.5/site-packages\r\n"
     ]
    }
   ],
   "source": [
    "# Check this out!\n",
    "# !is a Jupyter magic that calls out to the \n",
    "!pip install SQLAlchemy"
   ]
  },
  {
   "cell_type": "markdown",
   "metadata": {},
   "source": [
    "### make sure it works"
   ]
  },
  {
   "cell_type": "code",
   "execution_count": 2,
   "metadata": {
    "collapsed": false
   },
   "outputs": [
    {
     "data": {
      "text/plain": [
       "'1.1.9'"
      ]
     },
     "execution_count": 2,
     "metadata": {},
     "output_type": "execute_result"
    }
   ],
   "source": [
    "import sqlalchemy\n",
    "sqlalchemy.__version__"
   ]
  },
  {
   "cell_type": "markdown",
   "metadata": {},
   "source": [
    "### create a simple database in memory"
   ]
  },
  {
   "cell_type": "code",
   "execution_count": 3,
   "metadata": {
    "collapsed": true
   },
   "outputs": [],
   "source": [
    "from sqlalchemy import create_engine\n",
    "engine = create_engine('sqlite:///:memory:', echo=True)"
   ]
  },
  {
   "cell_type": "code",
   "execution_count": 4,
   "metadata": {
    "collapsed": true
   },
   "outputs": [],
   "source": [
    "from sqlalchemy.ext.declarative import declarative_base\n",
    "Base = declarative_base()"
   ]
  },
  {
   "cell_type": "markdown",
   "metadata": {},
   "source": [
    "### define class representing a simple table"
   ]
  },
  {
   "cell_type": "code",
   "execution_count": 5,
   "metadata": {
    "collapsed": true
   },
   "outputs": [],
   "source": [
    "from sqlalchemy import Column, Integer, String\n",
    "class User(Base):\n",
    "    __tablename__ = 'users'\n",
    "\n",
    "    id = Column(Integer, primary_key=True)\n",
    "    name = Column(String)\n",
    "    fullname = Column(String)\n",
    "    password = Column(String)\n",
    "\n",
    "    def __repr__(self):\n",
    "        return \"<User(name='%s', fullname='%s', password='%s')>\" % (self.name, self.fullname, self.password)"
   ]
  },
  {
   "cell_type": "code",
   "execution_count": 6,
   "metadata": {
    "collapsed": false
   },
   "outputs": [
    {
     "data": {
      "text/plain": [
       "Table('users', MetaData(bind=None), Column('id', Integer(), table=<users>, primary_key=True, nullable=False), Column('name', String(), table=<users>), Column('fullname', String(), table=<users>), Column('password', String(), table=<users>), schema=None)"
      ]
     },
     "execution_count": 6,
     "metadata": {},
     "output_type": "execute_result"
    }
   ],
   "source": [
    "User.__table__"
   ]
  },
  {
   "cell_type": "markdown",
   "metadata": {},
   "source": [
    "### create the database!!"
   ]
  },
  {
   "cell_type": "code",
   "execution_count": 7,
   "metadata": {
    "collapsed": false
   },
   "outputs": [
    {
     "name": "stdout",
     "output_type": "stream",
     "text": [
      "2017-08-08 15:08:00,463 INFO sqlalchemy.engine.base.Engine SELECT CAST('test plain returns' AS VARCHAR(60)) AS anon_1\n",
      "2017-08-08 15:08:00,465 INFO sqlalchemy.engine.base.Engine ()\n",
      "2017-08-08 15:08:00,467 INFO sqlalchemy.engine.base.Engine SELECT CAST('test unicode returns' AS VARCHAR(60)) AS anon_1\n",
      "2017-08-08 15:08:00,467 INFO sqlalchemy.engine.base.Engine ()\n",
      "2017-08-08 15:08:00,469 INFO sqlalchemy.engine.base.Engine PRAGMA table_info(\"users\")\n",
      "2017-08-08 15:08:00,470 INFO sqlalchemy.engine.base.Engine ()\n",
      "2017-08-08 15:08:00,472 INFO sqlalchemy.engine.base.Engine \n",
      "CREATE TABLE users (\n",
      "\tid INTEGER NOT NULL, \n",
      "\tname VARCHAR, \n",
      "\tfullname VARCHAR, \n",
      "\tpassword VARCHAR, \n",
      "\tPRIMARY KEY (id)\n",
      ")\n",
      "\n",
      "\n",
      "2017-08-08 15:08:00,473 INFO sqlalchemy.engine.base.Engine ()\n",
      "2017-08-08 15:08:00,474 INFO sqlalchemy.engine.base.Engine COMMIT\n"
     ]
    }
   ],
   "source": [
    "Base.metadata.create_all(engine)"
   ]
  },
  {
   "cell_type": "markdown",
   "metadata": {},
   "source": [
    "### create our first User"
   ]
  },
  {
   "cell_type": "code",
   "execution_count": 8,
   "metadata": {
    "collapsed": true
   },
   "outputs": [],
   "source": [
    "ed_user = User(name='ed', fullname='Mr. Ed', password='wilbur')"
   ]
  },
  {
   "cell_type": "markdown",
   "metadata": {},
   "source": [
    "### __repr__ should return a printable representation of the object"
   ]
  },
  {
   "cell_type": "raw",
   "metadata": {},
   "source": [
    "# use the defined __repr__ function\n",
    "\n",
    "__repr__ should return a printable representation of the object\n",
    "amit_user"
   ]
  },
  {
   "cell_type": "code",
   "execution_count": 9,
   "metadata": {
    "collapsed": false
   },
   "outputs": [
    {
     "data": {
      "text/plain": [
       "'wilbur'"
      ]
     },
     "execution_count": 9,
     "metadata": {},
     "output_type": "execute_result"
    }
   ],
   "source": [
    "ed_user.password"
   ]
  },
  {
   "cell_type": "code",
   "execution_count": 10,
   "metadata": {
    "collapsed": false
   },
   "outputs": [
    {
     "data": {
      "text/plain": [
       "'Mr. Ed'"
      ]
     },
     "execution_count": 10,
     "metadata": {},
     "output_type": "execute_result"
    }
   ],
   "source": [
    "ed_user.fullname"
   ]
  },
  {
   "cell_type": "markdown",
   "metadata": {},
   "source": [
    "### need to start a Session in order to \"talk to the database\"\n",
    "\n",
    "so far we have only created an object in Python memory using the class we defined."
   ]
  },
  {
   "cell_type": "code",
   "execution_count": 11,
   "metadata": {
    "collapsed": true
   },
   "outputs": [],
   "source": [
    "from sqlalchemy.orm import sessionmaker\n",
    "Session = sessionmaker(bind=engine)\n",
    "session = Session() # instance of Session()"
   ]
  },
  {
   "cell_type": "markdown",
   "metadata": {},
   "source": [
    "### first insert "
   ]
  },
  {
   "cell_type": "code",
   "execution_count": 12,
   "metadata": {
    "collapsed": false
   },
   "outputs": [
    {
     "name": "stdout",
     "output_type": "stream",
     "text": [
      "2017-08-08 15:08:17,736 INFO sqlalchemy.engine.base.Engine BEGIN (implicit)\n",
      "2017-08-08 15:08:17,739 INFO sqlalchemy.engine.base.Engine INSERT INTO users (name, fullname, password) VALUES (?, ?, ?)\n",
      "2017-08-08 15:08:17,740 INFO sqlalchemy.engine.base.Engine ('ed', 'Mr. Ed', 'wilbur')\n",
      "2017-08-08 15:08:17,742 INFO sqlalchemy.engine.base.Engine COMMIT\n"
     ]
    }
   ],
   "source": [
    "session.add(ed_user)\n",
    "session.commit()"
   ]
  },
  {
   "cell_type": "markdown",
   "metadata": {},
   "source": [
    "### query to see if it is there"
   ]
  },
  {
   "cell_type": "code",
   "execution_count": 13,
   "metadata": {
    "collapsed": false
   },
   "outputs": [
    {
     "name": "stdout",
     "output_type": "stream",
     "text": [
      "2017-08-08 15:08:22,759 INFO sqlalchemy.engine.base.Engine BEGIN (implicit)\n",
      "2017-08-08 15:08:22,762 INFO sqlalchemy.engine.base.Engine SELECT users.id AS users_id, users.name AS users_name, users.fullname AS users_fullname, users.password AS users_password \n",
      "FROM users\n",
      " LIMIT ? OFFSET ?\n",
      "2017-08-08 15:08:22,764 INFO sqlalchemy.engine.base.Engine (1, 0)\n"
     ]
    },
    {
     "data": {
      "text/plain": [
       "<User(name='ed', fullname='Mr. Ed', password='wilbur')>"
      ]
     },
     "execution_count": 13,
     "metadata": {},
     "output_type": "execute_result"
    }
   ],
   "source": [
    "our_user = session.query(User)\n",
    "our_user.first()"
   ]
  },
  {
   "cell_type": "markdown",
   "metadata": {},
   "source": [
    "### query with a filter"
   ]
  },
  {
   "cell_type": "code",
   "execution_count": 14,
   "metadata": {
    "collapsed": false
   },
   "outputs": [
    {
     "name": "stdout",
     "output_type": "stream",
     "text": [
      "2017-08-08 15:08:25,113 INFO sqlalchemy.engine.base.Engine SELECT count(*) AS count_1 \n",
      "FROM (SELECT users.id AS users_id, users.name AS users_name, users.fullname AS users_fullname, users.password AS users_password \n",
      "FROM users \n",
      "WHERE users.name = ?) AS anon_1\n",
      "2017-08-08 15:08:25,114 INFO sqlalchemy.engine.base.Engine ('ed',)\n"
     ]
    },
    {
     "data": {
      "text/plain": [
       "1"
      ]
     },
     "execution_count": 14,
     "metadata": {},
     "output_type": "execute_result"
    }
   ],
   "source": [
    "our_user = session.query(User).filter_by(name='ed')\n",
    "our_user.count()"
   ]
  },
  {
   "cell_type": "markdown",
   "metadata": {},
   "source": [
    "### add a bunch more users\n"
   ]
  },
  {
   "cell_type": "code",
   "execution_count": 16,
   "metadata": {
    "collapsed": false
   },
   "outputs": [
    {
     "name": "stdout",
     "output_type": "stream",
     "text": [
      "2017-08-08 15:08:58,803 INFO sqlalchemy.engine.base.Engine INSERT INTO users (name, fullname, password) VALUES (?, ?, ?)\n",
      "2017-08-08 15:08:58,804 INFO sqlalchemy.engine.base.Engine ('Gabe', 'Gabriel Fine', 'bart')\n",
      "2017-08-08 15:08:58,805 INFO sqlalchemy.engine.base.Engine INSERT INTO users (name, fullname, password) VALUES (?, ?, ?)\n",
      "2017-08-08 15:08:58,806 INFO sqlalchemy.engine.base.Engine ('Charlie', 'Charlotte Fine', 'lisa')\n",
      "2017-08-08 15:08:58,807 INFO sqlalchemy.engine.base.Engine COMMIT\n"
     ]
    }
   ],
   "source": [
    "gabe = User(name='Gabe', fullname='Gabriel Fine', password='bart')\n",
    "charlie = User(name='Charlie', fullname='Charlotte Fine', password='lisa')\n",
    "session.add_all([ gabe, charlie ] )\n",
    "session.commit()"
   ]
  },
  {
   "cell_type": "markdown",
   "metadata": {},
   "source": [
    "### check how many Users are in table"
   ]
  },
  {
   "cell_type": "code",
   "execution_count": 17,
   "metadata": {
    "collapsed": false
   },
   "outputs": [
    {
     "name": "stdout",
     "output_type": "stream",
     "text": [
      "2017-08-08 15:09:01,803 INFO sqlalchemy.engine.base.Engine BEGIN (implicit)\n",
      "2017-08-08 15:09:01,804 INFO sqlalchemy.engine.base.Engine SELECT count(*) AS count_1 \n",
      "FROM (SELECT users.id AS users_id, users.name AS users_name, users.fullname AS users_fullname, users.password AS users_password \n",
      "FROM users) AS anon_1\n",
      "2017-08-08 15:09:01,805 INFO sqlalchemy.engine.base.Engine ()\n"
     ]
    },
    {
     "data": {
      "text/plain": [
       "3"
      ]
     },
     "execution_count": 17,
     "metadata": {},
     "output_type": "execute_result"
    }
   ],
   "source": [
    "query = session.query(User)\n",
    "query.count()"
   ]
  },
  {
   "cell_type": "markdown",
   "metadata": {},
   "source": [
    "### try raw SQL"
   ]
  },
  {
   "cell_type": "code",
   "execution_count": 18,
   "metadata": {
    "collapsed": false
   },
   "outputs": [
    {
     "name": "stdout",
     "output_type": "stream",
     "text": [
      "2017-08-08 15:09:06,591 INFO sqlalchemy.engine.base.Engine select count(*) from users\n",
      "2017-08-08 15:09:06,593 INFO sqlalchemy.engine.base.Engine ()\n"
     ]
    },
    {
     "data": {
      "text/plain": [
       "(3,)"
      ]
     },
     "execution_count": 18,
     "metadata": {},
     "output_type": "execute_result"
    }
   ],
   "source": [
    "from sqlalchemy import text\n",
    "\n",
    "sql = text('select count(*) from users')\n",
    "result = session.execute(sql)\n",
    "result.first()"
   ]
  },
  {
   "cell_type": "code",
   "execution_count": 19,
   "metadata": {
    "collapsed": false
   },
   "outputs": [
    {
     "name": "stdout",
     "output_type": "stream",
     "text": [
      "2017-08-08 15:09:08,743 INFO sqlalchemy.engine.base.Engine select * from users\n",
      "2017-08-08 15:09:08,744 INFO sqlalchemy.engine.base.Engine ()\n",
      "(1, 'ed', 'Mr. Ed', 'wilbur')\n",
      "(2, 'Gabe', 'Gabriel Fine', 'bart')\n",
      "(3, 'Charlie', 'Charlotte Fine', 'lisa')\n"
     ]
    }
   ],
   "source": [
    "sql = text('select * from users')\n",
    "result = session.execute(sql)\n",
    "for rr in result:\n",
    "    print(rr)"
   ]
  },
  {
   "cell_type": "code",
   "execution_count": null,
   "metadata": {
    "collapsed": true
   },
   "outputs": [],
   "source": []
  }
 ],
 "metadata": {
  "kernelspec": {
   "display_name": "Python 3",
   "language": "python",
   "name": "python3"
  },
  "language_info": {
   "codemirror_mode": {
    "name": "ipython",
    "version": 3
   },
   "file_extension": ".py",
   "mimetype": "text/x-python",
   "name": "python",
   "nbconvert_exporter": "python",
   "pygments_lexer": "ipython3",
   "version": "3.5.2"
  }
 },
 "nbformat": 4,
 "nbformat_minor": 0
}
