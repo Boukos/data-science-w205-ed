{
 "cells": [
  {
   "cell_type": "markdown",
   "metadata": {},
   "source": [
    "# Investigating window functions in postgres\n",
    "\n",
    "https://www.postgresql.org/docs/9.1/static/tutorial-window.html"
   ]
  },
  {
   "cell_type": "markdown",
   "metadata": {},
   "source": [
    "## log into postgres server\n",
    "\n",
    "use this command\n",
    "\n",
    "```\n",
    "psql -h mids-w205.c0bx3q0sdpgn.us-east-1.rds.amazonaws.com -p 5432 -U amitb -d dvdrental2\n",
    "```\n",
    "\n",
    "password is \n",
    "\n",
    "```\n",
    "gobears92\n",
    "```"
   ]
  },
  {
   "cell_type": "markdown",
   "metadata": {},
   "source": [
    "## the HARD WAY to compute deviations from average\n",
    "\n",
    "### get first letter and legnth\n",
    "\n",
    "```\n",
    "select substring(first_name from 1 for 1), length(first_name) \n",
    "from actor;\n",
    "```\n",
    "\n",
    "### get first letter and avg length\n",
    "\n",
    "```\n",
    "select substring(first_name from 1 for 1) as letter, avg(length(first_name)) \n",
    "from actor \n",
    "group by letter \n",
    "order by letter;\n",
    "```\n",
    "\n",
    "### join with original table\n",
    "```\n",
    "select \n",
    "  actor.first_name, \n",
    "  substring(actor.first_name from 1 for 1) as letter1, \n",
    "  tt.letter as letter2, \n",
    "  length(actor.first_name), \n",
    "  tt.avg_len,\n",
    "  (length(actor.first_name) - tt.avg_len) as diff\n",
    "\n",
    "from actor, \n",
    "(\n",
    "  select \n",
    "    substring(first_name from 1 for 1) as letter, \n",
    "    avg(length(first_name))as avg_len \n",
    "  from actor group by letter order by letter\n",
    "  ) as tt \n",
    "where substring(actor.first_name from 1 for 1) = tt.letter\n",
    "order by actor.first_name\n",
    ";\n",
    "```\n",
    "\n",
    "\n"
   ]
  },
  {
   "cell_type": "markdown",
   "metadata": {},
   "source": [
    "## now use magical window functions\n",
    "\n",
    "### first attempt \n",
    "```\n",
    "SELECT\n",
    " substring(actor.first_name from 1 for 1) as letter, \n",
    " avg(length(first_name))\n",
    "\n",
    "OVER (PARTITION BY substring(actor.first_name from 1 for 1))\n",
    "\n",
    "FROM actor\n",
    ";\n",
    "```\n",
    "\n",
    "### check against first name\n",
    "\n",
    "```\n",
    "SELECT\n",
    "  first_name,\n",
    "  substring(actor.first_name from 1 for 1) as letter, \n",
    "  length(first_name),\n",
    "  avg(length(first_name))\n",
    "\n",
    "OVER (PARTITION BY substring(actor.first_name from 1 for 1))\n",
    "\n",
    "FROM actor\n",
    ";\n",
    "\n",
    "```\n",
    "\n",
    "### final result\n",
    "\n",
    "```\n",
    "SELECT\n",
    "  first_name,\n",
    "  substring(actor.first_name from 1 for 1) as letter, \n",
    "  length(first_name) - avg(length(first_name)) \n",
    "\n",
    "OVER (PARTITION BY substring(actor.first_name from 1 for 1))\n",
    "\n",
    "FROM actor\n",
    ";\n",
    "\n",
    "```\n"
   ]
  },
  {
   "cell_type": "markdown",
   "metadata": {},
   "source": [
    "## exercise 0\n",
    "\n",
    "make sure you understand and can run all of the above commands"
   ]
  },
  {
   "cell_type": "markdown",
   "metadata": {},
   "source": [
    "## exercise 1\n",
    "find the length of the country name in the **country** table and compare to the average length of a country name.\n",
    "\n",
    "HINT: since there is no field to group by, you can use the syntax >>  OVER ()"
   ]
  },
  {
   "cell_type": "markdown",
   "metadata": {},
   "source": [
    "## exercise 2"
   ]
  },
  {
   "cell_type": "markdown",
   "metadata": {},
   "source": [
    "connect to the **midstest** database\n",
    "```\n",
    "psql -h mids-w205.c0bx3q0sdpgn.us-east-1.rds.amazonaws.com -p 5432 -U amitb -d midstest\n",
    "```\n",
    "\n",
    "or switch to the **midstest** database\n",
    "```\n",
    "\\c midstest\n",
    "```\n",
    "\n",
    "in the **empsalary** table, find the percentage of the total salaries that each employee is paid"
   ]
  },
  {
   "cell_type": "code",
   "execution_count": null,
   "metadata": {
    "collapsed": true
   },
   "outputs": [],
   "source": []
  }
 ],
 "metadata": {
  "kernelspec": {
   "display_name": "Python 2",
   "language": "python",
   "name": "python2"
  },
  "language_info": {
   "codemirror_mode": {
    "name": "ipython",
    "version": 2
   },
   "file_extension": ".py",
   "mimetype": "text/x-python",
   "name": "python",
   "nbconvert_exporter": "python",
   "pygments_lexer": "ipython2",
   "version": "2.7.10"
  }
 },
 "nbformat": 4,
 "nbformat_minor": 0
}
