{
 "cells": [
  {
   "cell_type": "markdown",
   "metadata": {},
   "source": [
    "# Neo4j and graphs\n",
    "\n",
    "\n",
    "### get it \n",
    "download Neo4j here > https://neo4j.com/download/\n",
    "\n",
    "### follow instructions and start the server\n",
    "\n",
    "### do some really simple stuff\n",
    "\n",
    "https://neo4j.com/developer/cypher-query-language/\n"
   ]
  },
  {
   "cell_type": "markdown",
   "metadata": {},
   "source": [
    "### cool article about Marvel Superheroes\n",
    "\n",
    "https://neo4j.com/news/marvel-universe-assemble-in-a-graph-database/"
   ]
  },
  {
   "cell_type": "markdown",
   "metadata": {},
   "source": [
    "## lets analyze Game of Thrones\n",
    "\n",
    "http://www.lyonwj.com/2016/06/26/graph-of-thrones-neo4j-social-network-analysis/"
   ]
  },
  {
   "cell_type": "markdown",
   "metadata": {},
   "source": [
    "#### 1. get the data"
   ]
  },
  {
   "cell_type": "raw",
   "metadata": {},
   "source": [
    "\n",
    "CREATE CONSTRAINT ON (c:Character) ASSERT c.name IS UNIQUE;"
   ]
  },
  {
   "cell_type": "raw",
   "metadata": {},
   "source": [
    "LOAD CSV WITH HEADERS FROM \"https://www.macalester.edu/~abeverid/data/stormofswords.csv\" AS row\n",
    "MERGE (src:Character {name: row.Source})\n",
    "MERGE (tgt:Character {name: row.Target})\n",
    "MERGE (src)-[r:INTERACTS]->(tgt)\n",
    "ON CREATE SET r.weight = toInt(row.Weight)"
   ]
  },
  {
   "cell_type": "markdown",
   "metadata": {},
   "source": [
    "#### 2. visualize everything"
   ]
  },
  {
   "cell_type": "raw",
   "metadata": {},
   "source": [
    "MATCH p=(:Character)-[:INTERACTS]-(:Character)\n",
    "RETURN p"
   ]
  },
  {
   "cell_type": "markdown",
   "metadata": {},
   "source": [
    "#### 3. shortest path analysis"
   ]
  },
  {
   "cell_type": "raw",
   "metadata": {},
   "source": [
    "// All shortest paths from Catelyn Stark to Khal Drogo\n",
    "MATCH (catelyn:Character {name: \"Catelyn\"}), (drogo:Character {name: \"Drogo\"})\n",
    "MATCH p=allShortestPaths((catelyn)-[INTERACTS*]-(drogo))\n",
    "RETURN p"
   ]
  },
  {
   "cell_type": "markdown",
   "metadata": {},
   "source": [
    "#### 4. degree centrality"
   ]
  },
  {
   "cell_type": "raw",
   "metadata": {},
   "source": [
    "MATCH (c:Character)\n",
    "RETURN c.name AS character, size( (c)-[:INTERACTS]-() ) AS degree ORDER BY degree DESC"
   ]
  },
  {
   "cell_type": "markdown",
   "metadata": {},
   "source": [
    "#### 5. what is Tyrion up to?"
   ]
  },
  {
   "cell_type": "raw",
   "metadata": {},
   "source": [
    "// find all people Tyrion interacts with\n",
    "MATCH (tyrion {name:\"Tyrion\"})-[:INTERACTS]->(tyrion_interacts)\n",
    "RETURN tyrion, tyrion_interacts\n",
    "\n"
   ]
  },
  {
   "cell_type": "markdown",
   "metadata": {},
   "source": [
    "#### 6. make up your own ..."
   ]
  },
  {
   "cell_type": "code",
   "execution_count": null,
   "metadata": {
    "collapsed": true
   },
   "outputs": [],
   "source": []
  }
 ],
 "metadata": {
  "kernelspec": {
   "display_name": "Python 2",
   "language": "python",
   "name": "python2"
  },
  "language_info": {
   "codemirror_mode": {
    "name": "ipython",
    "version": 2
   },
   "file_extension": ".py",
   "mimetype": "text/x-python",
   "name": "python",
   "nbconvert_exporter": "python",
   "pygments_lexer": "ipython2",
   "version": "2.7.10"
  }
 },
 "nbformat": 4,
 "nbformat_minor": 0
}
