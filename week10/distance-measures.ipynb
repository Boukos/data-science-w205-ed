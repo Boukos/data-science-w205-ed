{
 "cells": [
  {
   "cell_type": "markdown",
   "metadata": {},
   "source": [
    "# python distance measures\n",
    "\n",
    "## why important\n",
    "\n",
    "** data often contains messy strings that you need to \"clean\" before further analysis **\n",
    "\n",
    "examples:\n",
    "* misspellings - someone may type \"misisipi\" instead of \"mississippi\"\n",
    "* alternates - someone may type \"ny giants\" instead of \"new york giants\" \n",
    "\n",
    "** search engines are \"smart\" and want to help you find the right thing even if you didn't get an exact match **\n",
    "\n",
    "blog post from SeatGeek >> http://chairnerd.seatgeek.com/fuzzywuzzy-fuzzy-string-matching-in-python/\n",
    "\n",
    "```\n",
    "Of course, a big problem with most corners of the internet is labeling. \n",
    "One of our most consistently frustrating issues is trying to figure out \n",
    "whether two ticket listings are for the same real-life event \n",
    "(that is, without enlisting the help of our army of interns).\n",
    "\n",
    "```\n",
    "\n",
    "* abbreviations - someone may type \"cal bears football\" instead of \"california golden bears football\" \n",
    "  * Seatgeek > https://seatgeek.com/search?f=1&search=cal%20bears%20football\n",
    "\n",
    "\n",
    "## how \n",
    "\n",
    "investigate the usage of the following packages that compute distances\n",
    "* Levenshtein - https://rawgit.com/ztane/python-Levenshtein/master/docs/Levenshtein.html\n",
    "* difflib - https://docs.python.org/2/library/difflib.html\n",
    "* fuzzywuzzy (uses Levenshtein package) - https://github.com/seatgeek/fuzzywuzzy\n",
    "\n",
    "## installation\n",
    "\n",
    "```\n",
    "pip install python-Levenshtein\n",
    "pip install fuzzywuzzy\n",
    "\n",
    "```\n"
   ]
  },
  {
   "cell_type": "code",
   "execution_count": 1,
   "metadata": {
    "collapsed": false
   },
   "outputs": [
    {
     "name": "stdout",
     "output_type": "stream",
     "text": [
      "Collecting python-Levenshtein\n",
      "  Downloading python-Levenshtein-0.12.0.tar.gz (48kB)\n",
      "\u001b[K    100% |████████████████████████████████| 51kB 1.3MB/s ta 0:00:01\n",
      "\u001b[?25hRequirement already satisfied: setuptools in /Users/mango/anaconda/envs/w205/lib/python3.5/site-packages/setuptools-27.2.0-py3.5.egg (from python-Levenshtein)\n",
      "Building wheels for collected packages: python-Levenshtein\n",
      "  Running setup.py bdist_wheel for python-Levenshtein ... \u001b[?25l-\b \b\\\b \b|\b \b/\b \bdone\n",
      "\u001b[?25h  Stored in directory: /Users/mango/Library/Caches/pip/wheels/c0/83/e9/b2cc2876e175d04091caf4e9f5de564ff2503b1f1885e7c3ba\n",
      "Successfully built python-Levenshtein\n",
      "Installing collected packages: python-Levenshtein\n",
      "Successfully installed python-Levenshtein-0.12.0\n",
      "Collecting fuzzywuzzy\n",
      "  Downloading fuzzywuzzy-0.15.1-py2.py3-none-any.whl\n",
      "Installing collected packages: fuzzywuzzy\n",
      "Successfully installed fuzzywuzzy-0.15.1\n"
     ]
    }
   ],
   "source": [
    "!pip install python-Levenshtein\n",
    "!pip install fuzzywuzzy"
   ]
  },
  {
   "cell_type": "code",
   "execution_count": 5,
   "metadata": {
    "collapsed": false
   },
   "outputs": [],
   "source": [
    "import Levenshtein\n",
    "from fuzzywuzzy import fuzz, StringMatcher, process\n",
    "import difflib # part of standard library\n",
    "import csv"
   ]
  },
  {
   "cell_type": "code",
   "execution_count": 6,
   "metadata": {
    "collapsed": true
   },
   "outputs": [],
   "source": [
    "import pandas"
   ]
  },
  {
   "cell_type": "markdown",
   "metadata": {},
   "source": [
    "## basic usage "
   ]
  },
  {
   "cell_type": "markdown",
   "metadata": {},
   "source": [
    "### example 1"
   ]
  },
  {
   "cell_type": "code",
   "execution_count": 10,
   "metadata": {
    "collapsed": false
   },
   "outputs": [
    {
     "name": "stdout",
     "output_type": "stream",
     "text": [
      "1\n",
      "0.6666666666666666\n"
     ]
    }
   ],
   "source": [
    "s1 = \"foo\"\n",
    "s2 = \"Foo\"\n",
    "print(Levenshtein.distance(s1,s2))\n",
    "print(Levenshtein.ratio(s1,s2))"
   ]
  },
  {
   "cell_type": "code",
   "execution_count": 12,
   "metadata": {
    "collapsed": false
   },
   "outputs": [
    {
     "name": "stdout",
     "output_type": "stream",
     "text": [
      "3\n",
      "0.8421052631578947\n"
     ]
    }
   ],
   "source": [
    "\n",
    "s1 = \"misisipi\"\n",
    "s2 = \"mississippi\"\n",
    "print(Levenshtein.distance(s1,s2))\n",
    "print(Levenshtein.ratio(s1,s2))\n"
   ]
  },
  {
   "cell_type": "markdown",
   "metadata": {},
   "source": [
    "### example 2"
   ]
  },
  {
   "cell_type": "code",
   "execution_count": 14,
   "metadata": {
    "collapsed": false
   },
   "outputs": [
    {
     "name": "stdout",
     "output_type": "stream",
     "text": [
      "6\n",
      "0.75\n",
      "75\n"
     ]
    }
   ],
   "source": [
    "\n",
    "s1 = \"NY Giants\"\n",
    "s2 = \"New York Giants\"\n",
    "print(Levenshtein.distance(s1.lower(),s2.lower()))\n",
    "print(Levenshtein.ratio(s1.lower(),s2.lower()))\n",
    "\n",
    "print(fuzz.token_sort_ratio(s1, s2))"
   ]
  },
  {
   "cell_type": "code",
   "execution_count": 15,
   "metadata": {
    "collapsed": false
   },
   "outputs": [
    {
     "name": "stdout",
     "output_type": "stream",
     "text": [
      "0.75\n",
      "0.75\n",
      "0.75\n"
     ]
    }
   ],
   "source": [
    "# different way to get the ratio\n",
    "print(Levenshtein.ratio(s1,s2))\n",
    "print(fuzz.ratio(s1,s2) / 100.)\n",
    "print(difflib.SequenceMatcher(None,s1,s2).ratio())"
   ]
  },
  {
   "cell_type": "markdown",
   "metadata": {},
   "source": [
    "### example 3\n"
   ]
  },
  {
   "cell_type": "code",
   "execution_count": 17,
   "metadata": {
    "collapsed": false
   },
   "outputs": [
    {
     "name": "stdout",
     "output_type": "stream",
     "text": [
      "91\n"
     ]
    }
   ],
   "source": [
    "s1 = \"fuzzy wuzzy was a bear\"\n",
    "s2 = \"wuzzy fuzzy was a bear\"\n",
    "\n",
    "print(fuzz.ratio(s1, s2))"
   ]
  },
  {
   "cell_type": "code",
   "execution_count": 18,
   "metadata": {
    "collapsed": false
   },
   "outputs": [
    {
     "name": "stdout",
     "output_type": "stream",
     "text": [
      "87\n"
     ]
    }
   ],
   "source": [
    "s1 = \"fuzzy wuzzy was a bear\"\n",
    "s1 = \"fuzzy wuzzy was a\"\n",
    "s2 = \"wuzzy fuzzy was a bear\"\n",
    "print(fuzz.token_sort_ratio(s1, s2))"
   ]
  },
  {
   "cell_type": "markdown",
   "metadata": {},
   "source": [
    "##  find best match"
   ]
  },
  {
   "cell_type": "code",
   "execution_count": 169,
   "metadata": {
    "collapsed": false,
    "scrolled": true
   },
   "outputs": [
    {
     "data": {
      "text/plain": [
       "['Arizona Cardinals',\n",
       " 'Atlanta Falcons',\n",
       " 'Baltimore Ravens',\n",
       " 'Buffalo Bills',\n",
       " 'Carolina Panthers',\n",
       " 'Chicago Bears',\n",
       " 'Cincinnati Bengals',\n",
       " 'Cleveland Browns',\n",
       " 'Dallas Cowboys',\n",
       " 'Denver Broncos',\n",
       " 'Detroit Lions',\n",
       " 'Green Bay Packers',\n",
       " 'Houston Texans',\n",
       " 'Indianapolis Colts',\n",
       " 'Jacksonville Jaguars',\n",
       " 'Kansas City Chiefs',\n",
       " 'Los Angeles Rams',\n",
       " 'Miami Dolphins',\n",
       " 'Minnesota Vikings',\n",
       " 'New England Patriots',\n",
       " 'New Orleans Saints',\n",
       " 'New York Giants',\n",
       " 'New York Jets',\n",
       " 'Oakland Raiders',\n",
       " 'Philadelphia Eagles',\n",
       " 'Pittsburgh Steelers',\n",
       " 'San Diego Chargers',\n",
       " 'San Francisco 49ers',\n",
       " 'Seattle Seahawks',\n",
       " 'St Louis Rams',\n",
       " 'Tampa Bay Buccaneers',\n",
       " 'Tennessee Titans',\n",
       " 'Washington Redskins']"
      ]
     },
     "execution_count": 169,
     "metadata": {},
     "output_type": "execute_result"
    }
   ],
   "source": [
    "# read data\n",
    "df_teams = pandas.read_csv('nflTeams.csv')\n",
    "teams = df_teams.team.tolist()\n",
    "sorted(teams)"
   ]
  },
  {
   "cell_type": "code",
   "execution_count": 170,
   "metadata": {
    "collapsed": false
   },
   "outputs": [
    {
     "name": "stdout",
     "output_type": "stream",
     "text": [
      "NY Giants\n",
      "['New York Giants']\n"
     ]
    }
   ],
   "source": [
    "# use difflib to get best match\n",
    "s1 = 'NY Giants'\n",
    "print s1\n",
    "\n",
    "print difflib.get_close_matches(s1,teams)"
   ]
  },
  {
   "cell_type": "code",
   "execution_count": 171,
   "metadata": {
    "collapsed": false
   },
   "outputs": [
    {
     "name": "stdout",
     "output_type": "stream",
     "text": [
      "New York Giants\n",
      "['New York Giants', 'New York Jets']\n"
     ]
    }
   ],
   "source": [
    "# use difflib to get best match\n",
    "s1 = 'New York Giants' \n",
    "print s1\n",
    "print difflib.get_close_matches(s1,teams)"
   ]
  },
  {
   "cell_type": "code",
   "execution_count": 172,
   "metadata": {
    "collapsed": false
   },
   "outputs": [
    {
     "name": "stdout",
     "output_type": "stream",
     "text": [
      "New York Giants New York Giants 1.0\n",
      "New York Giants New York Jets 0.785714285714\n"
     ]
    }
   ],
   "source": [
    "# which match is better?\n",
    "close_matches  = difflib.get_close_matches(s1,teams)\n",
    "for s2 in close_matches:\n",
    "    print s1, s2, Levenshtein.ratio(s1,s2)"
   ]
  },
  {
   "cell_type": "code",
   "execution_count": 173,
   "metadata": {
    "collapsed": false
   },
   "outputs": [
    {
     "name": "stdout",
     "output_type": "stream",
     "text": [
      "NY Giants\n"
     ]
    },
    {
     "data": {
      "text/plain": [
       "[('New York Giants', 86),\n",
       " ('New Orleans Saints', 60),\n",
       " ('Tennessee Titans', 53),\n",
       " ('Houston Texans', 50),\n",
       " ('Carolina Panthers', 50)]"
      ]
     },
     "execution_count": 173,
     "metadata": {},
     "output_type": "execute_result"
    }
   ],
   "source": [
    "# use fuzzywuzzy\n",
    "s1 = 'NY Giants' \n",
    "print s1\n",
    "process.extract(s1, teams)"
   ]
  },
  {
   "cell_type": "code",
   "execution_count": 174,
   "metadata": {
    "collapsed": false
   },
   "outputs": [
    {
     "name": "stdout",
     "output_type": "stream",
     "text": [
      "NY Giants\n"
     ]
    },
    {
     "data": {
      "text/plain": [
       "('New York Giants', 86)"
      ]
     },
     "execution_count": 174,
     "metadata": {},
     "output_type": "execute_result"
    }
   ],
   "source": [
    "# one get one answer\n",
    "# use fuzzywuzzy\n",
    "s1 = 'NY Giants' \n",
    "print s1\n",
    "process.extractOne(s1, teams)"
   ]
  },
  {
   "cell_type": "code",
   "execution_count": 177,
   "metadata": {
    "collapsed": false
   },
   "outputs": [
    {
     "name": "stdout",
     "output_type": "stream",
     "text": [
      "NY Gaints\n"
     ]
    },
    {
     "data": {
      "text/plain": [
       "[('New Orleans Saints', 70),\n",
       " ('New York Giants', 67),\n",
       " ('New England Patriots', 50),\n",
       " ('Arizona Cardinals', 50),\n",
       " ('Houston Texans', 50)]"
      ]
     },
     "execution_count": 177,
     "metadata": {},
     "output_type": "execute_result"
    }
   ],
   "source": [
    "# use fuzzywuzzy - not the desired result!\n",
    "s1 = 'NY Gaints' \n",
    "print s1\n",
    "process.extract(s1, teams)"
   ]
  },
  {
   "cell_type": "markdown",
   "metadata": {},
   "source": [
    "##  find best match 2 "
   ]
  },
  {
   "cell_type": "code",
   "execution_count": 178,
   "metadata": {
    "collapsed": false,
    "scrolled": true
   },
   "outputs": [
    {
     "data": {
      "text/plain": [
       "['alabama',\n",
       " 'alaska',\n",
       " 'alberta',\n",
       " 'american samoa',\n",
       " 'arizona',\n",
       " 'arkansas',\n",
       " 'armed forces americas',\n",
       " 'armed forces europe',\n",
       " 'armed forces pacific',\n",
       " 'bajo nuevo bank',\n",
       " 'baker island',\n",
       " 'british columbia',\n",
       " 'california',\n",
       " 'colorado',\n",
       " 'connecticut',\n",
       " 'delaware',\n",
       " 'district of columbia',\n",
       " 'florida',\n",
       " 'georgia',\n",
       " 'guam',\n",
       " 'hawaii',\n",
       " 'howland island',\n",
       " 'idaho',\n",
       " 'illinois',\n",
       " 'indiana',\n",
       " 'iowa',\n",
       " 'jarvis island',\n",
       " 'johnston atoll',\n",
       " 'kansas',\n",
       " 'kentucky',\n",
       " 'kingman reef',\n",
       " 'louisiana',\n",
       " 'maine',\n",
       " 'manitoba',\n",
       " 'maryland',\n",
       " 'massachusetts',\n",
       " 'michigan',\n",
       " 'midway islands',\n",
       " 'minnesota',\n",
       " 'mississippi',\n",
       " 'missouri',\n",
       " 'montana',\n",
       " 'navassa island',\n",
       " 'nebraska',\n",
       " 'nevada',\n",
       " 'new brunswick',\n",
       " 'new hampshire',\n",
       " 'new jersey',\n",
       " 'new mexico',\n",
       " 'new york',\n",
       " 'newfoundland and labrador',\n",
       " 'north carolina',\n",
       " 'north dakota',\n",
       " 'northern mariana islands',\n",
       " 'northwest territories',\n",
       " 'nova scotia',\n",
       " 'nunavut',\n",
       " 'ohio',\n",
       " 'oklahoma',\n",
       " 'ontario',\n",
       " 'oregon',\n",
       " 'palmyra atoll',\n",
       " 'pennsylvania',\n",
       " 'prince edward island',\n",
       " 'puerto rico',\n",
       " 'quebec',\n",
       " 'rhode island',\n",
       " 'saskatchewan',\n",
       " 'serranilla bank',\n",
       " 'south carolina',\n",
       " 'south dakota',\n",
       " 'tennessee',\n",
       " 'texas',\n",
       " 'u.s. virgin islands',\n",
       " 'utah',\n",
       " 'vermont',\n",
       " 'virginia',\n",
       " 'wake island',\n",
       " 'washington',\n",
       " 'west virginia',\n",
       " 'wisconsin',\n",
       " 'wyoming',\n",
       " 'yukon territory']"
      ]
     },
     "execution_count": 178,
     "metadata": {},
     "output_type": "execute_result"
    }
   ],
   "source": [
    "# read data - includes Canadian provinces\n",
    "df_states = pandas.read_csv('state_table.csv')\n",
    "states = df_states.name.str.lower()\n",
    "sorted(states)"
   ]
  },
  {
   "cell_type": "code",
   "execution_count": 179,
   "metadata": {
    "collapsed": false
   },
   "outputs": [
    {
     "name": "stdout",
     "output_type": "stream",
     "text": [
      "misisipi\n",
      "['mississippi', 'missouri']\n"
     ]
    }
   ],
   "source": [
    "# get closest matches\n",
    "s1 = 'misisipi'\n",
    "print s1\n",
    "\n",
    "print difflib.get_close_matches(s1,states)\n"
   ]
  },
  {
   "cell_type": "code",
   "execution_count": 180,
   "metadata": {
    "collapsed": false
   },
   "outputs": [
    {
     "name": "stdout",
     "output_type": "stream",
     "text": [
      "misisipi mississippi 0.842105263158\n",
      "misisipi missouri 0.625\n"
     ]
    }
   ],
   "source": [
    "# which match is better?\n",
    "close_matches  = difflib.get_close_matches(s1,states)\n",
    "for s2 in close_matches:\n",
    "    print s1, s2, Levenshtein.ratio(s1,s2)\n"
   ]
  },
  {
   "cell_type": "code",
   "execution_count": 182,
   "metadata": {
    "collapsed": false
   },
   "outputs": [
    {
     "data": {
      "text/plain": [
       "[('mississippi', 84),\n",
       " ('missouri', 63),\n",
       " ('wisconsin', 47),\n",
       " ('jarvis island', 45),\n",
       " ('district of columbia', 43)]"
      ]
     },
     "execution_count": 182,
     "metadata": {},
     "output_type": "execute_result"
    }
   ],
   "source": [
    "# use fuzzy wuzzy this time\n",
    "process.extract(s1, states)"
   ]
  },
  {
   "cell_type": "markdown",
   "metadata": {},
   "source": [
    "## time to try it for yourself"
   ]
  },
  {
   "cell_type": "code",
   "execution_count": 183,
   "metadata": {
    "collapsed": true
   },
   "outputs": [],
   "source": [
    "# DO NOT TRY THIS - unless you have pandas installed\n",
    "df_districts = pandas.read_csv(\"districts.csv\")"
   ]
  },
  {
   "cell_type": "code",
   "execution_count": 185,
   "metadata": {
    "collapsed": false,
    "scrolled": true
   },
   "outputs": [
    {
     "data": {
      "text/html": [
       "<div>\n",
       "<table border=\"1\" class=\"dataframe\">\n",
       "  <thead>\n",
       "    <tr style=\"text-align: right;\">\n",
       "      <th></th>\n",
       "      <th>Agency Name</th>\n",
       "      <th>State Name [District] Latest available year</th>\n",
       "      <th>Agency ID</th>\n",
       "      <th>County Name [District] 2010-11</th>\n",
       "      <th>State Abbr [District] Latest available year</th>\n",
       "      <th>Agency Name [District] 2010-11</th>\n",
       "    </tr>\n",
       "  </thead>\n",
       "  <tbody>\n",
       "    <tr>\n",
       "      <th>5000</th>\n",
       "      <td>ENTREPRENEURSHIP PREPARATORY SCHOOL - WOODLAND...</td>\n",
       "      <td>Ohio</td>\n",
       "      <td>3901406</td>\n",
       "      <td>CUYAHOGA COUNTY</td>\n",
       "      <td>OH</td>\n",
       "      <td>CLEVELAND COLLEGIATE PREPARATORY SCHOOL</td>\n",
       "    </tr>\n",
       "    <tr>\n",
       "      <th>5001</th>\n",
       "      <td>ENUMCLAW SCHOOL DISTRICT</td>\n",
       "      <td>Washington</td>\n",
       "      <td>5300001</td>\n",
       "      <td>KING COUNTY</td>\n",
       "      <td>WA</td>\n",
       "      <td>ENUMCLAW SCHOOL DISTRICT</td>\n",
       "    </tr>\n",
       "    <tr>\n",
       "      <th>5002</th>\n",
       "      <td>ENVIRONMENT COMMUNITY OPPORTUNITY (ECO) CHARTE...</td>\n",
       "      <td>New Jersey</td>\n",
       "      <td>3400079</td>\n",
       "      <td>CAMDEN COUNTY</td>\n",
       "      <td>NJ</td>\n",
       "      <td>ENVIRONMENT COMMUNITY OPP CS</td>\n",
       "    </tr>\n",
       "    <tr>\n",
       "      <th>5003</th>\n",
       "      <td>ENVIRONMENTAL CHARTER SCHOOL AT FRICK PARK</td>\n",
       "      <td>Pennsylvania</td>\n",
       "      <td>4200812</td>\n",
       "      <td>ALLEGHENY COUNTY</td>\n",
       "      <td>PA</td>\n",
       "      <td>ENVIRONMENTAL CHARTER SCHOOL AT FRICK PARK</td>\n",
       "    </tr>\n",
       "    <tr>\n",
       "      <th>5004</th>\n",
       "      <td>ENVISIONS LEVEL III SCH PROG</td>\n",
       "      <td>Nebraska</td>\n",
       "      <td>3100156</td>\n",
       "      <td>MADISON COUNTY</td>\n",
       "      <td>NE</td>\n",
       "      <td>ENVISIONS LEVEL III SCH PROG</td>\n",
       "    </tr>\n",
       "    <tr>\n",
       "      <th>5005</th>\n",
       "      <td>EPHRATA AREA SD</td>\n",
       "      <td>Pennsylvania</td>\n",
       "      <td>4209270</td>\n",
       "      <td>LANCASTER COUNTY</td>\n",
       "      <td>PA</td>\n",
       "      <td>EPHRATA AREA SD</td>\n",
       "    </tr>\n",
       "    <tr>\n",
       "      <th>5006</th>\n",
       "      <td>EPHRATA SCHOOL DISTRICT</td>\n",
       "      <td>Washington</td>\n",
       "      <td>5302610</td>\n",
       "      <td>GRANT COUNTY</td>\n",
       "      <td>WA</td>\n",
       "      <td>EPHRATA SCHOOL DISTRICT</td>\n",
       "    </tr>\n",
       "    <tr>\n",
       "      <th>5007</th>\n",
       "      <td>EPPING SAU OFFICE</td>\n",
       "      <td>New Hampshire</td>\n",
       "      <td>3399914</td>\n",
       "      <td>ROCKINGHAM COUNTY</td>\n",
       "      <td>NH</td>\n",
       "      <td>EPPING SAU OFFICE</td>\n",
       "    </tr>\n",
       "    <tr>\n",
       "      <th>5008</th>\n",
       "      <td>EPPING SCHOOL DISTRICT</td>\n",
       "      <td>New Hampshire</td>\n",
       "      <td>3302880</td>\n",
       "      <td>ROCKINGHAM COUNTY</td>\n",
       "      <td>NH</td>\n",
       "      <td>EPPING SCHOOL DISTRICT</td>\n",
       "    </tr>\n",
       "    <tr>\n",
       "      <th>5009</th>\n",
       "      <td>EPSOM SCHOOL DISTRICT</td>\n",
       "      <td>New Hampshire</td>\n",
       "      <td>3302910</td>\n",
       "      <td>MERRIMACK COUNTY</td>\n",
       "      <td>NH</td>\n",
       "      <td>EPSOM SCHOOL DISTRICT</td>\n",
       "    </tr>\n",
       "  </tbody>\n",
       "</table>\n",
       "</div>"
      ],
      "text/plain": [
       "                                            Agency Name  \\\n",
       "5000  ENTREPRENEURSHIP PREPARATORY SCHOOL - WOODLAND...   \n",
       "5001                           ENUMCLAW SCHOOL DISTRICT   \n",
       "5002  ENVIRONMENT COMMUNITY OPPORTUNITY (ECO) CHARTE...   \n",
       "5003         ENVIRONMENTAL CHARTER SCHOOL AT FRICK PARK   \n",
       "5004                       ENVISIONS LEVEL III SCH PROG   \n",
       "5005                                    EPHRATA AREA SD   \n",
       "5006                            EPHRATA SCHOOL DISTRICT   \n",
       "5007                                  EPPING SAU OFFICE   \n",
       "5008                             EPPING SCHOOL DISTRICT   \n",
       "5009                              EPSOM SCHOOL DISTRICT   \n",
       "\n",
       "     State Name [District] Latest available year  Agency ID  \\\n",
       "5000                                        Ohio    3901406   \n",
       "5001                                  Washington    5300001   \n",
       "5002                                  New Jersey    3400079   \n",
       "5003                                Pennsylvania    4200812   \n",
       "5004                                    Nebraska    3100156   \n",
       "5005                                Pennsylvania    4209270   \n",
       "5006                                  Washington    5302610   \n",
       "5007                               New Hampshire    3399914   \n",
       "5008                               New Hampshire    3302880   \n",
       "5009                               New Hampshire    3302910   \n",
       "\n",
       "     County Name [District] 2010-11  \\\n",
       "5000                CUYAHOGA COUNTY   \n",
       "5001                    KING COUNTY   \n",
       "5002                  CAMDEN COUNTY   \n",
       "5003               ALLEGHENY COUNTY   \n",
       "5004                 MADISON COUNTY   \n",
       "5005               LANCASTER COUNTY   \n",
       "5006                   GRANT COUNTY   \n",
       "5007              ROCKINGHAM COUNTY   \n",
       "5008              ROCKINGHAM COUNTY   \n",
       "5009               MERRIMACK COUNTY   \n",
       "\n",
       "     State Abbr [District] Latest available year  \\\n",
       "5000                                         OH    \n",
       "5001                                         WA    \n",
       "5002                                         NJ    \n",
       "5003                                         PA    \n",
       "5004                                         NE    \n",
       "5005                                         PA    \n",
       "5006                                         WA    \n",
       "5007                                         NH    \n",
       "5008                                         NH    \n",
       "5009                                         NH    \n",
       "\n",
       "                  Agency Name [District] 2010-11  \n",
       "5000     CLEVELAND COLLEGIATE PREPARATORY SCHOOL  \n",
       "5001                    ENUMCLAW SCHOOL DISTRICT  \n",
       "5002                ENVIRONMENT COMMUNITY OPP CS  \n",
       "5003  ENVIRONMENTAL CHARTER SCHOOL AT FRICK PARK  \n",
       "5004                ENVISIONS LEVEL III SCH PROG  \n",
       "5005                             EPHRATA AREA SD  \n",
       "5006                     EPHRATA SCHOOL DISTRICT  \n",
       "5007                           EPPING SAU OFFICE  \n",
       "5008                      EPPING SCHOOL DISTRICT  \n",
       "5009                       EPSOM SCHOOL DISTRICT  "
      ]
     },
     "execution_count": 185,
     "metadata": {},
     "output_type": "execute_result"
    }
   ],
   "source": [
    "df_districts[5000:5010]"
   ]
  },
  {
   "cell_type": "code",
   "execution_count": 186,
   "metadata": {
    "collapsed": false
   },
   "outputs": [
    {
     "data": {
      "text/html": [
       "<div>\n",
       "<table border=\"1\" class=\"dataframe\">\n",
       "  <thead>\n",
       "    <tr style=\"text-align: right;\">\n",
       "      <th></th>\n",
       "      <th>Agency Name</th>\n",
       "      <th>State Name [District] Latest available year</th>\n",
       "      <th>Agency ID</th>\n",
       "      <th>County Name [District] 2010-11</th>\n",
       "      <th>State Abbr [District] Latest available year</th>\n",
       "      <th>Agency Name [District] 2010-11</th>\n",
       "    </tr>\n",
       "  </thead>\n",
       "  <tbody>\n",
       "    <tr>\n",
       "      <th>10994</th>\n",
       "      <td>NEW ROCHELLE CITY SCHOOL DISTRICT</td>\n",
       "      <td>New York</td>\n",
       "      <td>3620490</td>\n",
       "      <td>WESTCHESTER COUNTY</td>\n",
       "      <td>NY</td>\n",
       "      <td>NEW ROCHELLE CITY SCHOOL DISTRICT</td>\n",
       "    </tr>\n",
       "    <tr>\n",
       "      <th>13606</th>\n",
       "      <td>ROCHELLE CCSD 231</td>\n",
       "      <td>Illinois</td>\n",
       "      <td>1734260</td>\n",
       "      <td>OGLE COUNTY</td>\n",
       "      <td>IL</td>\n",
       "      <td>ROCHELLE CCSD 231</td>\n",
       "    </tr>\n",
       "    <tr>\n",
       "      <th>13607</th>\n",
       "      <td>ROCHELLE ISD</td>\n",
       "      <td>Texas</td>\n",
       "      <td>4837500</td>\n",
       "      <td>MCCULLOCH COUNTY</td>\n",
       "      <td>TX</td>\n",
       "      <td>ROCHELLE ISD</td>\n",
       "    </tr>\n",
       "    <tr>\n",
       "      <th>13608</th>\n",
       "      <td>ROCHELLE PARK SCHOOL DISTRICT</td>\n",
       "      <td>New Jersey</td>\n",
       "      <td>3414070</td>\n",
       "      <td>BERGEN COUNTY</td>\n",
       "      <td>NJ</td>\n",
       "      <td>ROCHELLE PARK</td>\n",
       "    </tr>\n",
       "    <tr>\n",
       "      <th>13609</th>\n",
       "      <td>ROCHELLE TWP HSD 212</td>\n",
       "      <td>Illinois</td>\n",
       "      <td>1734290</td>\n",
       "      <td>OGLE COUNTY</td>\n",
       "      <td>IL</td>\n",
       "      <td>ROCHELLE TWP HSD 212</td>\n",
       "    </tr>\n",
       "  </tbody>\n",
       "</table>\n",
       "</div>"
      ],
      "text/plain": [
       "                             Agency Name  \\\n",
       "10994  NEW ROCHELLE CITY SCHOOL DISTRICT   \n",
       "13606                  ROCHELLE CCSD 231   \n",
       "13607                       ROCHELLE ISD   \n",
       "13608      ROCHELLE PARK SCHOOL DISTRICT   \n",
       "13609               ROCHELLE TWP HSD 212   \n",
       "\n",
       "      State Name [District] Latest available year  Agency ID  \\\n",
       "10994                                    New York    3620490   \n",
       "13606                                    Illinois    1734260   \n",
       "13607                                       Texas    4837500   \n",
       "13608                                  New Jersey    3414070   \n",
       "13609                                    Illinois    1734290   \n",
       "\n",
       "      County Name [District] 2010-11  \\\n",
       "10994             WESTCHESTER COUNTY   \n",
       "13606                    OGLE COUNTY   \n",
       "13607               MCCULLOCH COUNTY   \n",
       "13608                  BERGEN COUNTY   \n",
       "13609                    OGLE COUNTY   \n",
       "\n",
       "      State Abbr [District] Latest available year  \\\n",
       "10994                                         NY    \n",
       "13606                                         IL    \n",
       "13607                                         TX    \n",
       "13608                                         NJ    \n",
       "13609                                         IL    \n",
       "\n",
       "          Agency Name [District] 2010-11  \n",
       "10994  NEW ROCHELLE CITY SCHOOL DISTRICT  \n",
       "13606                  ROCHELLE CCSD 231  \n",
       "13607                       ROCHELLE ISD  \n",
       "13608                      ROCHELLE PARK  \n",
       "13609               ROCHELLE TWP HSD 212  "
      ]
     },
     "execution_count": 186,
     "metadata": {},
     "output_type": "execute_result"
    }
   ],
   "source": [
    "# DO NOT TRY THIS - unless you have pandas installed\n",
    "# just for your information \n",
    "df_districts[df_districts['Agency Name'].str.lower().str.contains('rochelle')]"
   ]
  },
  {
   "cell_type": "code",
   "execution_count": 187,
   "metadata": {
    "collapsed": false
   },
   "outputs": [],
   "source": [
    "# read the file and get the districts w/o pandas \n",
    "f = open(\"districts.csv\", 'rU') # read in universal mode\n",
    "csv_reader = csv.reader(f, dialect='excel')\n",
    "districts = list()\n",
    "for line in csv_reader:\n",
    "    districts.append(line[0].lower())\n"
   ]
  },
  {
   "cell_type": "code",
   "execution_count": 189,
   "metadata": {
    "collapsed": false
   },
   "outputs": [
    {
     "data": {
      "text/plain": [
       "18046"
      ]
     },
     "execution_count": 189,
     "metadata": {},
     "output_type": "execute_result"
    }
   ],
   "source": [
    "len(districts)"
   ]
  },
  {
   "cell_type": "markdown",
   "metadata": {},
   "source": [
    "### try to find the school district where Amit went to high school in Moraga\n",
    "\n",
    "* find the top 5 best matches\n"
   ]
  },
  {
   "cell_type": "code",
   "execution_count": 194,
   "metadata": {
    "collapsed": false
   },
   "outputs": [
    {
     "name": "stdout",
     "output_type": "stream",
     "text": [
      "['lane', 'lane esd', 'coalgate']\n"
     ]
    }
   ],
   "source": [
    "s1 = \"acalanes\"  \n",
    "\n",
    "# enter your matching function below\n",
    "close_matches = difflib.get_close_matches(s1,districts)\n",
    "print close_matches\n",
    "\n"
   ]
  },
  {
   "cell_type": "code",
   "execution_count": 195,
   "metadata": {
    "collapsed": false
   },
   "outputs": [
    {
     "data": {
      "text/plain": [
       "[('acalanes union high', 90),\n",
       " ('lane', 90),\n",
       " ('alva', 68),\n",
       " ('clay', 68),\n",
       " ('gans', 68)]"
      ]
     },
     "execution_count": 195,
     "metadata": {},
     "output_type": "execute_result"
    }
   ],
   "source": [
    "process.extract(s1, districts)"
   ]
  },
  {
   "cell_type": "markdown",
   "metadata": {},
   "source": [
    "### try to find the school district where Amit's kids go to school in New Rochelle\n",
    "\n",
    "* find the top 5 results\n",
    "* do they look like the above 5 or not?\n",
    "* why or why not?\n",
    "* how would you fix it?  (hint: read the docs, try a different scoring function)"
   ]
  },
  {
   "cell_type": "code",
   "execution_count": 196,
   "metadata": {
    "collapsed": false
   },
   "outputs": [
    {
     "name": "stdout",
     "output_type": "stream",
     "text": [
      "['lone rock elem', 'rochelle isd', 'new hope elem']\n"
     ]
    }
   ],
   "source": [
    "s1 = \"new rochelle\"  \n",
    "\n",
    "# enter you matching function below\n",
    "# enter your matching function below\n",
    "close_matches = difflib.get_close_matches(s1,districts)\n",
    "print close_matches"
   ]
  },
  {
   "cell_type": "code",
   "execution_count": 197,
   "metadata": {
    "collapsed": false
   },
   "outputs": [
    {
     "data": {
      "text/plain": [
       "[('new rochelle city school district', 90),\n",
       " ('academy of new media middle', 86),\n",
       " ('achievement first east new york charter school', 86),\n",
       " ('bedford stuyvesant new beginnings charter school', 86),\n",
       " ('dike-new hartford comm school district', 86)]"
      ]
     },
     "execution_count": 197,
     "metadata": {},
     "output_type": "execute_result"
    }
   ],
   "source": [
    "process.extract(s1, districts)"
   ]
  },
  {
   "cell_type": "code",
   "execution_count": 198,
   "metadata": {
    "collapsed": false
   },
   "outputs": [
    {
     "data": {
      "text/plain": [
       "[('rochelle isd', 75),\n",
       " ('newhall', 63),\n",
       " ('rochelle ccsd 231', 62),\n",
       " ('kane roe', 60),\n",
       " ('new west school', 59)]"
      ]
     },
     "execution_count": 198,
     "metadata": {},
     "output_type": "execute_result"
    }
   ],
   "source": [
    "process.extract(s1, districts , scorer=fuzz.token_sort_ratio)"
   ]
  },
  {
   "cell_type": "code",
   "execution_count": null,
   "metadata": {
    "collapsed": true
   },
   "outputs": [],
   "source": []
  }
 ],
 "metadata": {
  "kernelspec": {
   "display_name": "Python 3",
   "language": "python",
   "name": "python3"
  },
  "language_info": {
   "codemirror_mode": {
    "name": "ipython",
    "version": 3
   },
   "file_extension": ".py",
   "mimetype": "text/x-python",
   "name": "python",
   "nbconvert_exporter": "python",
   "pygments_lexer": "ipython3",
   "version": "3.5.2"
  }
 },
 "nbformat": 4,
 "nbformat_minor": 0
}
