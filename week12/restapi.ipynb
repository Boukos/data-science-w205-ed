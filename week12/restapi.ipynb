{
 "cells": [
  {
   "cell_type": "markdown",
   "metadata": {},
   "source": [
    "# RESTful API\n",
    "\n",
    "What is REST?  What does it mean to be RESTful?\n",
    "\n",
    "REST = (RE)presentational (S)tate (T)ransfer\n",
    "\n",
    "the main idea is to use \"stateless operations\" - e.g. if you ask for the same thing twice it will give the same answer and doesnt depend on previous \"state\".\n",
    "\n",
    "it is more of a ***philosophy*** or an ***architectural style*** than a specific algorithm\n",
    "\n",
    "### here is a nice tutorial\n",
    "https://code.tutsplus.com/tutorials/a-beginners-guide-to-http-and-rest--net-16340\n",
    "\n"
   ]
  },
  {
   "cell_type": "markdown",
   "metadata": {},
   "source": [
    "### REST examples \n",
    "\n",
    "* Trello  https://developers.trello.com/advanced-reference/card"
   ]
  },
  {
   "cell_type": "markdown",
   "metadata": {},
   "source": [
    "## HTTP requests\n",
    "\n",
    "the main ones\n",
    "* GET - the normal one\n",
    "* POST - when you submit a form\n",
    "* DELETE\n",
    "* PUT"
   ]
  },
  {
   "cell_type": "markdown",
   "metadata": {},
   "source": [
    "### let's do one ourselves\n",
    "\n",
    "#### find all the code here\n",
    "\n",
    "https://github.com/UC-Berkeley-I-School/data-science-w205-amit/tree/master/week12\n",
    "\n",
    "\n",
    "#### follow the instructions here\n",
    "http://www.dreamsyssoft.com/python-scripting-tutorial/create-simple-rest-web-service-with-python.php\n",
    "\n",
    "you might need to install a few other packages depending on your environment.\n",
    "\n",
    "```pip install web.py```"
   ]
  },
  {
   "cell_type": "markdown",
   "metadata": {},
   "source": [
    "### python flask server\n",
    "\n",
    "Flask is a simple python web framework that allows you to serve \"stuff\".\n",
    "you can make it restful if you like\n",
    "\n",
    "we are following along here\n",
    "https://blog.miguelgrinberg.com/post/designing-a-restful-api-with-python-and-flask\n",
    "\n",
    "#### start with this code\n",
    "save file as foo.py"
   ]
  },
  {
   "cell_type": "code",
   "execution_count": null,
   "metadata": {
    "collapsed": false
   },
   "outputs": [],
   "source": [
    "#!flask/bin/python\n",
    "from flask import Flask\n",
    "\n",
    "app = Flask(__name__)\n",
    "\n",
    "@app.route('/')\n",
    "def index():\n",
    "    return \"Hello, World!\"\n",
    "\n",
    "app.run(debug=True)"
   ]
  },
  {
   "cell_type": "markdown",
   "metadata": {},
   "source": [
    "#### run the code\n",
    "\n",
    "python foo.py\n",
    "\n",
    "see the results at http://localhost:5000/"
   ]
  },
  {
   "cell_type": "markdown",
   "metadata": {},
   "source": [
    "#### lets add something else to the code\n",
    "\n",
    "either change foo.py or a new file foo2.py"
   ]
  },
  {
   "cell_type": "code",
   "execution_count": null,
   "metadata": {
    "collapsed": true
   },
   "outputs": [],
   "source": [
    "from flask import Flask, jsonify\n",
    "\n",
    "app = Flask(__name__)\n",
    "\n",
    "tasks = [\n",
    "    {\n",
    "        'id': 1,\n",
    "        'title': u'Buy groceries',\n",
    "        'description': u'Milk, Cheese, Pizza, Fruit, Tylenol', \n",
    "        'done': False\n",
    "    },\n",
    "    {\n",
    "        'id': 2,\n",
    "        'title': u'Learn Python',\n",
    "        'description': u'Need to find a good Python tutorial on the web', \n",
    "        'done': False\n",
    "    }\n",
    "]\n",
    "\n",
    "@app.route('/')\n",
    "def index():\n",
    "    return \"Hello, World!\"\n",
    "\n",
    "@app.route('/todo/api/v1.0/tasks', methods=['GET'])\n",
    "def get_tasks():\n",
    "    sql = \"select * ..\"\n",
    "    data = get_data(sql)\n",
    "    \n",
    "    return jsonify({'tasks': tasks})\n",
    "\n",
    "if __name__ == '__main__':\n",
    "    app.run(debug=True)"
   ]
  },
  {
   "cell_type": "markdown",
   "metadata": {},
   "source": [
    "#### see if it is running \n",
    "\n",
    "http://localhost:5000/todo/api/v1.0/tasks\n",
    "\n",
    "#### add some more code for specific tasks\n",
    "\n"
   ]
  },
  {
   "cell_type": "code",
   "execution_count": null,
   "metadata": {
    "collapsed": true
   },
   "outputs": [],
   "source": [
    "from flask import abort\n",
    "\n",
    "@app.route('/todo/api/v1.0/tasks/<int:task_id>', methods=['GET'])\n",
    "def get_task(task_id):\n",
    "    task = [task for task in tasks if task['id'] == task_id]\n",
    "    if len(task) == 0:\n",
    "        abort(404)\n",
    "    return jsonify({'task': task[0]})"
   ]
  },
  {
   "cell_type": "markdown",
   "metadata": {},
   "source": [
    "#### see if it is running \n",
    "http://localhost:5000/todo/api/v1.0/tasks/2"
   ]
  },
  {
   "cell_type": "code",
   "execution_count": null,
   "metadata": {
    "collapsed": true
   },
   "outputs": [],
   "source": []
  }
 ],
 "metadata": {
  "kernelspec": {
   "display_name": "Python 2",
   "language": "python",
   "name": "python2"
  },
  "language_info": {
   "codemirror_mode": {
    "name": "ipython",
    "version": 2
   },
   "file_extension": ".py",
   "mimetype": "text/x-python",
   "name": "python",
   "nbconvert_exporter": "python",
   "pygments_lexer": "ipython2",
   "version": "2.7.10"
  }
 },
 "nbformat": 4,
 "nbformat_minor": 0
}
