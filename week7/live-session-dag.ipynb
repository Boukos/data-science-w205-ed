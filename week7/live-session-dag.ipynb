{
 "cells": [
  {
   "cell_type": "markdown",
   "metadata": {},
   "source": [
    "## What is a DAG?\n",
    "\n",
    "a DAG, **directed acyclic graph**, is an information modeling technique\n",
    "\n",
    "https://en.wikipedia.org/wiki/Directed_acyclic_graph\n",
    "\n",
    "### what do i really need to know about them\n",
    "* DAGs are used to decide the order in which data gets processed\n",
    "* each step is dependent on the last\n",
    "* there is a nice process to make sure things don't get out of sequence\n",
    "\n",
    "### what don't i need to know\n",
    "* why it has to sound so complicated?\n",
    "* what is acyclic about it?\n",
    "* why a graph?\n",
    "\n",
    "### how to practice \n",
    "* Apache Airflow https://airflow.incubator.apache.org/\n",
    "* Lab 6 introduces some of the concepts\n",
    "\n",
    "### Apache Airflow\n",
    "\n",
    "```\n",
    "Use airflow to author workflows as directed acyclic graphs (DAGs) of tasks. \n",
    "\n",
    "The airflow scheduler executes your tasks on an array of workers while following the specified dependencies. \n",
    "\n",
    "Rich command line utilities make performing complex surgeries on DAGs a snap. \n",
    "\n",
    "The rich user interface makes it easy to visualize pipelines running in production, monitor progress, \n",
    "and troubleshoot issues when needed.\n",
    "```"
   ]
  },
  {
   "cell_type": "code",
   "execution_count": null,
   "metadata": {
    "collapsed": true
   },
   "outputs": [],
   "source": []
  }
 ],
 "metadata": {
  "kernelspec": {
   "display_name": "Python 2",
   "language": "python",
   "name": "python2"
  },
  "language_info": {
   "codemirror_mode": {
    "name": "ipython",
    "version": 2
   },
   "file_extension": ".py",
   "mimetype": "text/x-python",
   "name": "python",
   "nbconvert_exporter": "python",
   "pygments_lexer": "ipython2",
   "version": "2.7.10"
  }
 },
 "nbformat": 4,
 "nbformat_minor": 0
}
