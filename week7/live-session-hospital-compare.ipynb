{
 "cells": [
  {
   "cell_type": "markdown",
   "metadata": {},
   "source": [
    "## Exercise 1 - steps\n",
    "\n",
    "\n",
    "* everything as w205 user\n",
    "* load into data lake using bash script\n",
    "  * rename files\n",
    "  * strip files\n",
    "  * load to hdfs \n",
    "* load into hive using SQL scripts\n",
    "* transform into new tables using SQL scripts\n",
    "* analyze data using\n",
    "  * hive SQL scripts\n",
    "  * spark SQL scripts\n",
    "  * pyspark and python code\n",
    "  \n",
    "  "
   ]
  },
  {
   "cell_type": "code",
   "execution_count": null,
   "metadata": {
    "collapsed": true
   },
   "outputs": [],
   "source": []
  }
 ],
 "metadata": {
  "kernelspec": {
   "display_name": "Python 2",
   "language": "python",
   "name": "python2"
  },
  "language_info": {
   "codemirror_mode": {
    "name": "ipython",
    "version": 2
   },
   "file_extension": ".py",
   "mimetype": "text/x-python",
   "name": "python",
   "nbconvert_exporter": "python",
   "pygments_lexer": "ipython2",
   "version": "2.7.10"
  }
 },
 "nbformat": 4,
 "nbformat_minor": 0
}
